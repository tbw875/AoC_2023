{
 "cells": [
  {
   "cell_type": "code",
   "execution_count": 3,
   "metadata": {},
   "outputs": [],
   "source": [
    "# Part 2\n",
    "# Spelled numbers also count as valid numbers.\n",
    "spelled = ['one', 'two', 'three', 'four', 'five', 'six', 'seven', 'eight', 'nine']\n",
    "spelled_mapping = {word: index+1 for index, word in enumerate(spelled)}\n"
   ]
  },
  {
   "cell_type": "code",
   "execution_count": 4,
   "metadata": {},
   "outputs": [
    {
     "data": {
      "text/plain": [
       "{'one': 1,\n",
       " 'two': 2,\n",
       " 'three': 3,\n",
       " 'four': 4,\n",
       " 'five': 5,\n",
       " 'six': 6,\n",
       " 'seven': 7,\n",
       " 'eight': 8,\n",
       " 'nine': 9}"
      ]
     },
     "execution_count": 4,
     "metadata": {},
     "output_type": "execute_result"
    }
   ],
   "source": [
    "spelled_mapping"
   ]
  },
  {
   "cell_type": "code",
   "execution_count": 45,
   "metadata": {},
   "outputs": [],
   "source": [
    "new_cases = [\n",
    "    \"two1nine\"\n",
    ",\"eightwothree\"\n",
    ",\"abcone2threexyz\"\n",
    ",\"xtwone3four\"\n",
    ",\"4nineeightseven2\"\n",
    ",\"zoneight234\"\n",
    ",\"7pqrstsixteen\"\n",
    "]\n",
    "\n",
    "# Values\n",
    "# 29, 83, 13, 24, 42, 14, 76 = 281"
   ]
  },
  {
   "cell_type": "code",
   "execution_count": 46,
   "metadata": {},
   "outputs": [],
   "source": [
    "myString = new_cases[0]"
   ]
  },
  {
   "cell_type": "code",
   "execution_count": 40,
   "metadata": {},
   "outputs": [
    {
     "name": "stdout",
     "output_type": "stream",
     "text": [
      "29\n"
     ]
    }
   ],
   "source": [
    "for s in spelled:\n",
    "    if s in myString:\n",
    "        myString = myString.replace(s, str(spelled_mapping[s]))\n",
    "two_digit_string = myString[0] + myString[-1]\n",
    "print(two_digit_string)"
   ]
  },
  {
   "cell_type": "code",
   "execution_count": 43,
   "metadata": {},
   "outputs": [],
   "source": [
    "import re\n",
    "\n",
    "def string_replace(s):\n",
    "    for word, digit in spelled_mapping.items():\n",
    "        s = re.sub(rf'\\b{word}\\b', digit, s)\n",
    "\n",
    "    return s"
   ]
  },
  {
   "cell_type": "code",
   "execution_count": 48,
   "metadata": {},
   "outputs": [],
   "source": [
    "def string_replace(s):\n",
    "    replacements = {\n",
    "        'zero': '0',\n",
    "        'one': '1',\n",
    "        'two': '2',\n",
    "        'three': '3',\n",
    "        'four': '4',\n",
    "        'five': '5',\n",
    "        'six': '6',\n",
    "        'seven': '7',\n",
    "        'eight': '8',\n",
    "        'nine': '9'\n",
    "    }\n",
    "\n",
    "    # Create a pattern that matches any of the words\n",
    "    pattern = re.compile(\"|\".join(replacements.keys()))\n",
    "\n",
    "    # Function to replace a match with its corresponding digit\n",
    "    def replace_match(match):\n",
    "        return replacements[match.group(0)]\n",
    "\n",
    "    # Use re.sub to replace the words with digits\n",
    "    s = pattern.sub(replace_match, s)\n",
    "\n",
    "    return s"
   ]
  },
  {
   "cell_type": "code",
   "execution_count": 50,
   "metadata": {},
   "outputs": [
    {
     "data": {
      "text/plain": [
       "'8wo3'"
      ]
     },
     "execution_count": 50,
     "metadata": {},
     "output_type": "execute_result"
    }
   ],
   "source": [
    "string_replace(\"eightwothree\")"
   ]
  },
  {
   "cell_type": "code",
   "execution_count": null,
   "metadata": {},
   "outputs": [],
   "source": []
  }
 ],
 "metadata": {
  "kernelspec": {
   "display_name": "system_python",
   "language": "python",
   "name": "system_python"
  },
  "language_info": {
   "codemirror_mode": {
    "name": "ipython",
    "version": 3
   },
   "file_extension": ".py",
   "mimetype": "text/x-python",
   "name": "python",
   "nbconvert_exporter": "python",
   "pygments_lexer": "ipython3",
   "version": "3.9.15"
  }
 },
 "nbformat": 4,
 "nbformat_minor": 2
}
